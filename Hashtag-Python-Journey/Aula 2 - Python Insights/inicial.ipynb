{
 "cells": [
  {
   "cell_type": "markdown",
   "metadata": {},
   "source": [
    "# Python Insights - Analisando Dados com Python\n",
    "\n",
    "### Case - Cancelamento de Clientes\n",
    "\n",
    "Você foi contratado por uma empresa com mais de 800 mil clientes para um projeto de Dados. Recentemente a empresa percebeu que da sua base total de clientes, a maioria são clientes inativos, ou seja, que já cancelaram o serviço.\n",
    "\n",
    "Precisando melhorar seus resultados ela quer conseguir entender os principais motivos desses cancelamentos e quais as ações mais eficientes para reduzir esse número.\n",
    "\n",
    "Base de dados e arquivos: https://drive.google.com/drive/folders/1uDesZePdkhiraJmiyeZ-w5tfc8XsNYFZ?usp=drive_link"
   ]
  },
  {
   "cell_type": "code",
   "execution_count": null,
   "metadata": {},
   "outputs": [],
   "source": [
    "# Passo 1: importar a base dados\n",
    "# !pip install pandas numpy openpyxl nbformat ipykernel plotly\n",
    "import pandas as pd\n",
    "\n",
    "table = pd.read_csv(\"cancelamentos.csv\")\n",
    "table = table.drop(columns= \"CustomerID\")\n",
    "display(table)"
   ]
  },
  {
   "cell_type": "code",
   "execution_count": null,
   "metadata": {},
   "outputs": [],
   "source": [
    "# informações vazias ou no formato errado\n",
    "\n",
    "display(table.info())\n",
    "\n",
    "table = table.dropna() #tira todos os dados que tem espaço em branco\n",
    "\n",
    "display(table.info())\n"
   ]
  },
  {
   "cell_type": "code",
   "execution_count": null,
   "metadata": {},
   "outputs": [],
   "source": [
    "display(table[\"cancelou\"].value_counts(normalize=True))\n",
    "\n",
    "#display(table[\"cancelou\"].value_counts(normalize=True).map(\"{:.1%}\".format))"
   ]
  },
  {
   "cell_type": "code",
   "execution_count": null,
   "metadata": {},
   "outputs": [],
   "source": [
    "import plotly.express as px\n",
    "for coluna in table.columns:\n",
    "    graph = px.histogram(table, x=coluna, color=\"cancelou\", text_auto=True )\n",
    "\n",
    "    graph.show()"
   ]
  },
  {
   "cell_type": "code",
   "execution_count": null,
   "metadata": {},
   "outputs": [],
   "source": [
    "condicao = table[\"duracao_contrato\"]!=\"Monthly\"\n",
    "table = table[condicao] #da para filtrar com qualquer condição\n",
    "\n",
    "condicao = table[\"dias_atraso\"]<=20\n",
    "table = table[condicao]\n",
    "\n",
    "condicao = table[\"ligacoes_callcenter\"] <= 4\n",
    "table = table[condicao]\n",
    "\n",
    "display(table[\"cancelou\"].value_counts(normalize=True).map(\"{:.1%}\".format))\n"
   ]
  },
  {
   "cell_type": "code",
   "execution_count": null,
   "metadata": {},
   "outputs": [],
   "source": [
    "# causas de cancelamento\n",
    "\n",
    "# todos os clientes de contrato mensal, cancelaram\n",
    "\n"
   ]
  }
 ],
 "metadata": {
  "kernelspec": {
   "display_name": "Python 3",
   "language": "python",
   "name": "python3"
  },
  "language_info": {
   "codemirror_mode": {
    "name": "ipython",
    "version": 3
   },
   "file_extension": ".py",
   "mimetype": "text/x-python",
   "name": "python",
   "nbconvert_exporter": "python",
   "pygments_lexer": "ipython3",
   "version": "3.11.9"
  },
  "orig_nbformat": 4
 },
 "nbformat": 4,
 "nbformat_minor": 2
}
